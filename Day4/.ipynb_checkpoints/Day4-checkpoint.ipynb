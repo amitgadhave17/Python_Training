{
 "cells": [
  {
   "cell_type": "code",
   "execution_count": 4,
   "metadata": {},
   "outputs": [
    {
     "name": "stdout",
     "output_type": "stream",
     "text": [
      "Enter number:5\n"
     ]
    }
   ],
   "source": [
    "##### for each in range(0,4):\n",
    "try:\n",
    "    x = int(input('Enter number:'))\n",
    "except Exception as e:\n",
    "    pass"
   ]
  },
  {
   "cell_type": "code",
   "execution_count": 6,
   "metadata": {},
   "outputs": [],
   "source": [
    "def thr_ex():\n",
    "    return (1/0)"
   ]
  },
  {
   "cell_type": "code",
   "execution_count": 7,
   "metadata": {},
   "outputs": [
    {
     "name": "stdout",
     "output_type": "stream",
     "text": [
      "division by zero\n"
     ]
    }
   ],
   "source": [
    "try:\n",
    "    thr_ex()\n",
    "except Exception as e:\n",
    "    print(e)"
   ]
  },
  {
   "cell_type": "code",
   "execution_count": 8,
   "metadata": {},
   "outputs": [],
   "source": [
    "#user defined exceptions\n",
    "#write code here"
   ]
  },
  {
   "cell_type": "code",
   "execution_count": 15,
   "metadata": {},
   "outputs": [
    {
     "name": "stdout",
     "output_type": "stream",
     "text": [
      "HELLO!\n",
      "QUICK HEAL!\n"
     ]
    },
    {
     "ename": "NameError",
     "evalue": "name 'hello' is not defined",
     "output_type": "error",
     "traceback": [
      "\u001b[1;31m---------------------------------------------------------------------------\u001b[0m",
      "\u001b[1;31mNameError\u001b[0m                                 Traceback (most recent call last)",
      "\u001b[1;32m<ipython-input-15-28ed3ef5a0cd>\u001b[0m in \u001b[0;36m<module>\u001b[1;34m\u001b[0m\n\u001b[0;32m      7\u001b[0m \u001b[0mobj\u001b[0m\u001b[1;33m(\u001b[0m\u001b[1;34m\"Quick HEal\"\u001b[0m\u001b[1;33m)\u001b[0m\u001b[1;33m\u001b[0m\u001b[1;33m\u001b[0m\u001b[0m\n\u001b[0;32m      8\u001b[0m \u001b[1;32mdel\u001b[0m \u001b[0mhello\u001b[0m\u001b[1;33m\u001b[0m\u001b[1;33m\u001b[0m\u001b[0m\n\u001b[1;32m----> 9\u001b[1;33m \u001b[0mhello\u001b[0m\u001b[1;33m(\u001b[0m\u001b[1;34m'Hello'\u001b[0m\u001b[1;33m)\u001b[0m\u001b[1;33m\u001b[0m\u001b[1;33m\u001b[0m\u001b[0m\n\u001b[0m",
      "\u001b[1;31mNameError\u001b[0m: name 'hello' is not defined"
     ]
    }
   ],
   "source": [
    "#first class obects\n",
    "def hello(msg):\n",
    "    print(msg.upper()+'!')\n",
    "hello('Hello')\n",
    "\n",
    "obj = hello\n",
    "obj(\"Quick HEal\")\n",
    "del hello\n",
    "hello('Hello')"
   ]
  },
  {
   "cell_type": "code",
   "execution_count": 21,
   "metadata": {},
   "outputs": [
    {
     "name": "stdout",
     "output_type": "stream",
     "text": [
      "HELLO!\n",
      "hello\n"
     ]
    }
   ],
   "source": [
    "obj('hello')\n",
    "print(obj.__name__)"
   ]
  },
  {
   "cell_type": "code",
   "execution_count": 26,
   "metadata": {},
   "outputs": [
    {
     "data": {
      "text/plain": [
       "9"
      ]
     },
     "execution_count": 26,
     "metadata": {},
     "output_type": "execute_result"
    }
   ],
   "source": [
    "def multip(x):\n",
    "    return(x * x)\n",
    "multip(3)"
   ]
  },
  {
   "cell_type": "code",
   "execution_count": 29,
   "metadata": {},
   "outputs": [
    {
     "name": "stdout",
     "output_type": "stream",
     "text": [
      "Hey!\n"
     ]
    }
   ],
   "source": [
    "# Python program to illustrate \n",
    "# closures \n",
    "def outerFunction(text): \n",
    "    text = text \n",
    "  \n",
    "    def innerFunction(): \n",
    "        print(text) \n",
    "  \n",
    "    return innerFunction # Note we are returning function WITHOUT parenthesis \n",
    "  \n",
    "if __name__ == '__main__': \n",
    "    myFunction = outerFunction('Hey!') \n",
    "    myFunction()"
   ]
  },
  {
   "cell_type": "code",
   "execution_count": 36,
   "metadata": {},
   "outputs": [
    {
     "name": "stdout",
     "output_type": "stream",
     "text": [
      "Welcome to quickheal\n",
      "Welcome to QUICKHEAL\n"
     ]
    }
   ],
   "source": [
    "#decorators\n",
    "# Adds a welcome message to the string \n",
    "# returned by fun(). Takes fun() as \n",
    "# parameter and returns welcome(). \n",
    "def decorate_message(fun): \n",
    "  \n",
    "    # Nested function \n",
    "    def addWelcome(site_name): \n",
    "        return \"Welcome to \" + fun(site_name) \n",
    "  \n",
    "    # Decorator returns a function \n",
    "    return addWelcome \n",
    "  \n",
    "@decorate_message\n",
    "def site(site_name): \n",
    "    return site_name; \n",
    "\n",
    "@decorate_message\n",
    "def site1(site_name): \n",
    "    return site_name.upper(); \n",
    "  \n",
    "# Driver code \n",
    "  \n",
    "# This call is equivalent to call to \n",
    "# decorate_message() with function \n",
    "# site(\"GeeksforGeeks\") as parameter \n",
    "print(site(\"quickheal\"))\n",
    "print(site1(\"quickheal\"))"
   ]
  },
  {
   "cell_type": "code",
   "execution_count": 41,
   "metadata": {},
   "outputs": [
    {
     "name": "stdout",
     "output_type": "stream",
     "text": [
      "24\n"
     ]
    }
   ],
   "source": [
    "from datetime import date\n",
    "class Person:\n",
    "    def __init__(self, name, surname, birthdate, email, address, mob, tel):\n",
    "        self.name = name\n",
    "        self.surname = surname\n",
    "        self.birthdate = birthdate\n",
    "        self.email = email\n",
    "        self.address = address\n",
    "        self.mob = mob \n",
    "        self.tel = tel\n",
    "        \n",
    "    def cal_age(self):\n",
    "        d2 = date.today()\n",
    "        d3 =  d2.year - self.birthdate.year\n",
    "        return d3 \n",
    "        \n",
    "    def __del__(self):\n",
    "        print('deleted')\n",
    "        \n",
    "P = Person('amit', 'gadhave', date(1995,10,17), 'amitgadhave17', 'Pune', '9890', '020')\n",
    "print(P.cal_age())"
   ]
  }
 ],
 "metadata": {
  "kernelspec": {
   "display_name": "Python 3",
   "language": "python",
   "name": "python3"
  },
  "language_info": {
   "codemirror_mode": {
    "name": "ipython",
    "version": 3
   },
   "file_extension": ".py",
   "mimetype": "text/x-python",
   "name": "python",
   "nbconvert_exporter": "python",
   "pygments_lexer": "ipython3",
   "version": "3.7.1"
  }
 },
 "nbformat": 4,
 "nbformat_minor": 2
}
