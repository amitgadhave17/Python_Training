{
 "cells": [
  {
   "cell_type": "markdown",
   "metadata": {},
   "source": [
    "Tuples:\n",
    "t = tuple()\n",
    "following statement will not work\n",
    "t[2] = something \n"
   ]
  },
  {
   "cell_type": "code",
   "execution_count": 10,
   "metadata": {},
   "outputs": [
    {
     "name": "stdout",
     "output_type": "stream",
     "text": [
      "(10, 'Hello', 'Amit', 'pankaj', 'Quick heal')\n",
      "(10, 'Hello', 'google', 'Amit', 'pankaj', 'Quick heal')\n"
     ]
    }
   ],
   "source": [
    "t =  10, 'Hello', 'Amit', 'pankaj', 'Quick heal'\n",
    "print(t)\n",
    "#t[1] = 'bye'  ->> will not work\n",
    "t = t[:2] + ('google',)+ t[2:]\n",
    "print(t)"
   ]
  },
  {
   "cell_type": "markdown",
   "metadata": {},
   "source": [
    "Tuple with colleations and list"
   ]
  },
  {
   "cell_type": "code",
   "execution_count": 17,
   "metadata": {},
   "outputs": [
    {
     "name": "stdout",
     "output_type": "stream",
     "text": [
      "[Sale(ProductID=123, CustID=12.56)]\n"
     ]
    }
   ],
   "source": [
    "import collections\n",
    "Sale = collections.namedtuple('Sale', 'ProductID CustID')\n",
    "Sales = []\n",
    "Sales.append(Sale(123, 12.56))\n",
    "print(Sales)"
   ]
  },
  {
   "cell_type": "markdown",
   "metadata": {},
   "source": [
    "SET"
   ]
  },
  {
   "cell_type": "code",
   "execution_count": 24,
   "metadata": {},
   "outputs": [
    {
     "name": "stdout",
     "output_type": "stream",
     "text": [
      "[10, 20, 30, 40, 50, 10, 30]\n",
      "[40, 10, 50, 20, 30]\n",
      "<class 'list'>\n"
     ]
    }
   ],
   "source": [
    "li = [10,20,30,40,50,10,30]\n",
    "a = list(set(li))\n",
    "\n",
    "print(li)\n",
    "#print(a.sort())\n",
    "print(a) #set itself removes the duplicate entry and it is unordered\n",
    "print(type(a))"
   ]
  },
  {
   "cell_type": "markdown",
   "metadata": {},
   "source": [
    "Set operations\n"
   ]
  },
  {
   "cell_type": "code",
   "execution_count": 26,
   "metadata": {},
   "outputs": [
    {
     "name": "stdout",
     "output_type": "stream",
     "text": [
      "{'v', 'b', 'c', 'a'}\n",
      "{'j', 'g', 'f', 'd', 'e', 'c', 'a', 'v', 'h', 'i', 'b'}\n",
      "{'g', 'd', 'e', 'f'}\n",
      "{'j', 'c', 'a', 'v', 'h', 'i', 'b'}\n",
      "False\n",
      "False\n"
     ]
    }
   ],
   "source": [
    "x = set('abcdevvvvvvvfg')\n",
    "y = set('defghij')\n",
    "\n",
    "print(x - y) # difference: present in X not in Y\n",
    "print(x | y) # union\n",
    "print(x & y) # intersection\n",
    "print(x ^ y) # Xor (Exclusing common)\n",
    "print(x > y) # superset return T or F\n",
    "print(x < y) # subset return T & F\n"
   ]
  },
  {
   "cell_type": "code",
   "execution_count": 39,
   "metadata": {},
   "outputs": [
    {
     "name": "stdout",
     "output_type": "stream",
     "text": [
      "{'b', 'c', 'a'}\n",
      "{'g', 'h'}\n",
      "{'g', 'h', 'b', 'c', 'a'}\n",
      "{'g', 'h', 'b', 'c', 'a'}\n"
     ]
    }
   ],
   "source": [
    "list1 = ['a','b','c','d','e','f']\n",
    "list2 = ['d','e','f','g','h']\n",
    "set1 = set(list1)\n",
    "set2 = set(list2)\n",
    "print(set1-set2)\n",
    "print(set2-set1)\n",
    "print(set2^set1)\n",
    "print(set2.symmetric_difference(set1))"
   ]
  },
  {
   "cell_type": "markdown",
   "metadata": {},
   "source": [
    "Dictionaries\n",
    "collection having Key - value pairs\n"
   ]
  },
  {
   "cell_type": "code",
   "execution_count": 2,
   "metadata": {},
   "outputs": [
    {
     "name": "stdout",
     "output_type": "stream",
     "text": [
      "{'name': 'Amit', 'DOB': '17-10'}\n",
      "{'name': 'pankaj', 'id': '3018'}\n",
      "{'name': 'Amit', 'ID': '03018'}\n"
     ]
    }
   ],
   "source": [
    "dict1 = {'name': 'Amit', 'DOB': '17-10'}\n",
    "print(dict1)\n",
    "\n",
    "dict2  = dict(zip(('name', 'id'), ('pankaj', '3018')))\n",
    "print(dict2)\n",
    "\n",
    "dict3 = dict([('name', 'Amit'), ('ID', '03018')])\n",
    "print(dict3)\n"
   ]
  },
  {
   "cell_type": "code",
   "execution_count": 3,
   "metadata": {},
   "outputs": [
    {
     "name": "stdout",
     "output_type": "stream",
     "text": [
      "name Amit\n",
      "DOB 17-10\n"
     ]
    }
   ],
   "source": [
    "for key, value in dict1.items():\n",
    "    print(key, value)"
   ]
  },
  {
   "cell_type": "markdown",
   "metadata": {},
   "source": [
    "#Write python program to remove duplicates\n"
   ]
  },
  {
   "cell_type": "code",
   "execution_count": 15,
   "metadata": {},
   "outputs": [
    {
     "name": "stdout",
     "output_type": "stream",
     "text": [
      "{'name': 'Pankaj', 'ID': 'Amit'}\n",
      "{'name': 'Amit', 'ID': 'Pankaj'}\n"
     ]
    }
   ],
   "source": [
    "l1 = ['name', 'ID']\n",
    "l2 = ['Pankaj', 'Amit']\n",
    "dict3 = dict(zip(l1,l2))\n",
    "print(dict3)\n",
    "dict3 = dict(zip(set(l1),set(l2)))  # zip works with list, tuples, set but set does not guarantee will work as espected\n",
    "print(dict3)"
   ]
  },
  {
   "cell_type": "code",
   "execution_count": 18,
   "metadata": {},
   "outputs": [
    {
     "name": "stdout",
     "output_type": "stream",
     "text": [
      "{('key2', 2)}\n"
     ]
    }
   ],
   "source": [
    "#set operations on dictionaries\n",
    "x = {'key1': 1, 'key2': 2}\n",
    "y = {'key1': 1}\n",
    "print(set(x.items()) - set(y.items()))"
   ]
  },
  {
   "cell_type": "code",
   "execution_count": 19,
   "metadata": {},
   "outputs": [
    {
     "name": "stdout",
     "output_type": "stream",
     "text": [
      "{0: 0, 1: 1, 2: 4, 3: 9, 4: 16}\n"
     ]
    }
   ],
   "source": [
    "mydict = {x:x*x for x in range(5)}\n",
    "print(mydict)"
   ]
  },
  {
   "cell_type": "code",
   "execution_count": 52,
   "metadata": {},
   "outputs": [
    {
     "name": "stdout",
     "output_type": "stream",
     "text": [
      "{'key1': [1, 2], 'key2': [2, 2]}\n"
     ]
    }
   ],
   "source": [
    "#python code to creating dictionaries\n",
    "dict1  = {'key1': {'key': 1,'key2': 2}, 'key2': {'key': 2, 'key2': 2}}\n",
    "dict2  = {}\n",
    "\n",
    "for key, value in dict1.items():\n",
    "    dict2[key]= list(value.values())\n",
    "print(dict2)"
   ]
  },
  {
   "cell_type": "markdown",
   "metadata": {},
   "source": [
    "FILES"
   ]
  },
  {
   "cell_type": "code",
   "execution_count": 21,
   "metadata": {},
   "outputs": [
    {
     "name": "stdout",
     "output_type": "stream",
     "text": [
      "['Hi', 'This is quick heal', 'welcome to python world.']\n"
     ]
    }
   ],
   "source": [
    "lines = [ line.strip() for line in open('test.txt')]\n",
    "print(lines)"
   ]
  },
  {
   "cell_type": "code",
   "execution_count": 33,
   "metadata": {},
   "outputs": [
    {
     "name": "stdout",
     "output_type": "stream",
     "text": [
      "[]\n",
      "\n"
     ]
    }
   ],
   "source": [
    "f = open('test.txt', 'w+')\n",
    "print(f.readlines(5))  # specifying parameters inside readline will print lines upto given character lengths;\n",
    "print(f.read())\n",
    "print('hi', file = f)\n",
    "f.close()"
   ]
  },
  {
   "cell_type": "markdown",
   "metadata": {},
   "source": [
    "Shared References"
   ]
  },
  {
   "cell_type": "code",
   "execution_count": 40,
   "metadata": {},
   "outputs": [
    {
     "name": "stdout",
     "output_type": "stream",
     "text": [
      "['a', [1, 2, 3, [10, 11, 12]], 'b']\n",
      "['a', [1, 2, 3, [10, 11, 12, 4]], 'b']\n"
     ]
    }
   ],
   "source": [
    "X = [1,2,3,[10,11,12]]\n",
    "li = ['a', X[:], 'b']\n",
    "print(li)\n",
    "X[3].append(4)\n",
    "print(li)\n",
    "\n"
   ]
  },
  {
   "cell_type": "markdown",
   "metadata": {},
   "source": [
    "Comparison of collection objects:\n",
    "Lexical comparisons:"
   ]
  },
  {
   "cell_type": "code",
   "execution_count": 42,
   "metadata": {},
   "outputs": [
    {
     "name": "stdout",
     "output_type": "stream",
     "text": [
      "False\n",
      "True\n"
     ]
    }
   ],
   "source": [
    "l1 = ['a', ['b', 1]]\n",
    "l2 = ['a', ['c', 0]]\n",
    "print(l1 > l2)\n",
    "l2 = ['a', ['b', 0]]\n",
    "print(l1 > l2)"
   ]
  },
  {
   "cell_type": "markdown",
   "metadata": {},
   "source": [
    "Assignment create references not copies:"
   ]
  },
  {
   "cell_type": "markdown",
   "metadata": {},
   "source": [
    "FUNCTIONS"
   ]
  },
  {
   "cell_type": "code",
   "execution_count": 70,
   "metadata": {},
   "outputs": [
    {
     "name": "stdout",
     "output_type": "stream",
     "text": [
      ".\n",
      "    Author : पंकज पाटील \n",
      "    Date : 7/4/2019\n",
      " \n",
      "    \n",
      "Pankaj Patil\n",
      "Pankaj Quickheal\n"
     ]
    }
   ],
   "source": [
    "import collections\n",
    "def Hello(name, sirname= 'Patil'):\n",
    "    \"\"\".\n",
    "    Author : पंकज पाटील \n",
    "    Date : 7/4/2019\n",
    " \n",
    "    \"\"\"\n",
    "    print(name, sirname)\n",
    "    \n",
    "print(Hello.__doc__)\n",
    "\n",
    "Hello('Pankaj')\n",
    "Hello('Pankaj', 'Quickheal')\n"
   ]
  },
  {
   "cell_type": "code",
   "execution_count": 77,
   "metadata": {},
   "outputs": [
    {
     "name": "stdout",
     "output_type": "stream",
     "text": [
      "[100, 2]\n",
      "[1, 2]\n",
      "1\n",
      "[1, 2]\n"
     ]
    }
   ],
   "source": [
    "X = [100, 2]\n",
    "\n",
    "def Add(y):\n",
    "    #global X\n",
    "    X[0] = 1\n",
    "    print(X)\n",
    "    print(y)\n",
    "    \n",
    "print(X)\n",
    "Add(1)\n",
    "print(X)"
   ]
  },
  {
   "cell_type": "code",
   "execution_count": 1,
   "metadata": {},
   "outputs": [
    {
     "name": "stdout",
     "output_type": "stream",
     "text": [
      "33\n"
     ]
    }
   ],
   "source": [
    "list1 = [[1,2,3], [4,5,6], [7,8,9], [10,11,12]]\n",
    "a = max(list(map(lambda x:sum(x) , list1)))\n",
    "print(a)"
   ]
  },
  {
   "cell_type": "code",
   "execution_count": null,
   "metadata": {},
   "outputs": [],
   "source": []
  }
 ],
 "metadata": {
  "kernelspec": {
   "display_name": "Python 3",
   "language": "python",
   "name": "python3"
  },
  "language_info": {
   "codemirror_mode": {
    "name": "ipython",
    "version": 3
   },
   "file_extension": ".py",
   "mimetype": "text/x-python",
   "name": "python",
   "nbconvert_exporter": "python",
   "pygments_lexer": "ipython3",
   "version": "3.7.1"
  }
 },
 "nbformat": 4,
 "nbformat_minor": 2
}
