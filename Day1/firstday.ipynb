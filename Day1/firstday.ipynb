{
 "cells": [
  {
   "cell_type": "markdown",
   "metadata": {},
   "source": [
    "# Day one"
   ]
  },
  {
   "cell_type": "code",
   "execution_count": 14,
   "metadata": {},
   "outputs": [
    {
     "name": "stdout",
     "output_type": "stream",
     "text": [
      "Welcome to python\n"
     ]
    }
   ],
   "source": [
    "#hello world\n",
    "print(\"Welcome to python\")"
   ]
  },
  {
   "cell_type": "code",
   "execution_count": 5,
   "metadata": {},
   "outputs": [
    {
     "name": "stdout",
     "output_type": "stream",
     "text": [
      "Empty DataFrame\n",
      "Columns: []\n",
      "Index: []\n"
     ]
    }
   ],
   "source": [
    "import pandas as pd\n",
    "df = pd.DataFrame()\n",
    "print(df)"
   ]
  },
  {
   "cell_type": "code",
   "execution_count": 19,
   "metadata": {},
   "outputs": [
    {
     "name": "stdout",
     "output_type": "stream",
     "text": [
      "1 [2, 3, 4] 5\n"
     ]
    }
   ],
   "source": [
    "#use of * in assigning elements in list\n",
    "a, *b, c = [1, 2, 3, 4, 5]\n",
    "print(a, b, c)\n"
   ]
  },
  {
   "cell_type": "code",
   "execution_count": 14,
   "metadata": {},
   "outputs": [
    {
     "data": {
      "text/plain": [
       "See https://www.python.org/psf/license/"
      ]
     },
     "execution_count": 14,
     "metadata": {},
     "output_type": "execute_result"
    }
   ],
   "source": [
    "copyright\n",
    "license"
   ]
  },
  {
   "cell_type": "code",
   "execution_count": 22,
   "metadata": {},
   "outputs": [
    {
     "name": "stdout",
     "output_type": "stream",
     "text": [
      "a = 0.5067, b = 10.1045, a * b= 5.11995015\n"
     ]
    }
   ],
   "source": [
    "#format use in print statement\n",
    "a = 0.5067\n",
    "b = 10.1045\n",
    "c = a * b\n",
    "print(\"a = {}, b = {}, a * b= {}\".format(a, b, c))"
   ]
  },
  {
   "cell_type": "code",
   "execution_count": 23,
   "metadata": {},
   "outputs": [
    {
     "name": "stdout",
     "output_type": "stream",
     "text": [
      "10.1045 0.5067\n"
     ]
    }
   ],
   "source": [
    "#swapping in python\n",
    "a, b = b, a\n",
    "print(a ,b)"
   ]
  },
  {
   "cell_type": "code",
   "execution_count": 26,
   "metadata": {},
   "outputs": [
    {
     "name": "stdout",
     "output_type": "stream",
     "text": [
      "sys.version_info(major=3, minor=7, micro=1, releaselevel='final', serial=0)\n"
     ]
    }
   ],
   "source": [
    "#sys version\n",
    "import sys\n",
    "print(sys.version_info)"
   ]
  },
  {
   "cell_type": "code",
   "execution_count": 33,
   "metadata": {},
   "outputs": [
    {
     "name": "stdout",
     "output_type": "stream",
     "text": [
      "Current Date and Time :\n",
      "<class 'datetime.datetime'>\n",
      "2019-24-02 21:27:32\n"
     ]
    },
    {
     "data": {
      "text/plain": [
       "datetime.datetime"
      ]
     },
     "execution_count": 33,
     "metadata": {},
     "output_type": "execute_result"
    }
   ],
   "source": [
    "#getcurrent date time\n",
    "import datetime\n",
    "print (\"Current Date and Time :\")\n",
    "t = datetime.datetime.now()\n",
    "print (t.strftime(\"%Y-%d-%m %H:%M:%S\"))\n",
    "type(t)"
   ]
  },
  {
   "cell_type": "code",
   "execution_count": 36,
   "metadata": {},
   "outputs": [
    {
     "name": "stdout",
     "output_type": "stream",
     "text": [
      "0\n",
      "0.0\n"
     ]
    }
   ],
   "source": [
    "#print area of circle\n",
    "import math\n",
    "radius = float(input())\n",
    "print(math.pi* radius **2)"
   ]
  },
  {
   "cell_type": "code",
   "execution_count": 37,
   "metadata": {},
   "outputs": [
    {
     "name": "stdout",
     "output_type": "stream",
     "text": [
      "Please enter the radius4\n",
      "267.94666666666666\n"
     ]
    }
   ],
   "source": [
    "radius = float(input(\"Please enter the radius\"))\n",
    "print(4/3 *3.14 * radius ** 3)"
   ]
  },
  {
   "cell_type": "code",
   "execution_count": 40,
   "metadata": {},
   "outputs": [
    {
     "name": "stdout",
     "output_type": "stream",
     "text": [
      "[0, 1, 2, 3, 4]\n"
     ]
    }
   ],
   "source": [
    "print ([i for i in range(5)])"
   ]
  },
  {
   "cell_type": "code",
   "execution_count": 41,
   "metadata": {},
   "outputs": [
    {
     "name": "stdout",
     "output_type": "stream",
     "text": [
      "Quick Heal\n",
      "QUICK HEAL\n",
      "quick heal\n"
     ]
    }
   ],
   "source": [
    "#string operations\n",
    "name = \"qUick heal\"\n",
    "print (name.title())\n",
    "print (name.upper())\n",
    "print (name.lower())"
   ]
  },
  {
   "cell_type": "code",
   "execution_count": 47,
   "metadata": {},
   "outputs": [
    {
     "name": "stdout",
     "output_type": "stream",
     "text": [
      "list of charactes:a,a,b,c,d\n",
      "{'b', 'a', 'c', 'd'}\n",
      "['a', 'b', 'c', 'd']\n"
     ]
    }
   ],
   "source": [
    " #string, split, set\n",
    "char = input(\"list of charactes:\")\n",
    "char_set = set(char.split(','))\n",
    "print(char_set)\n",
    "print(sorted(char_set))\n"
   ]
  },
  {
   "cell_type": "code",
   "execution_count": 57,
   "metadata": {},
   "outputs": [
    {
     "name": "stdout",
     "output_type": "stream",
     "text": [
      "Enter string:hey there\n",
      "hey\n"
     ]
    }
   ],
   "source": [
    "name = input('Enter string:')\n",
    "print(name[0:3])"
   ]
  },
  {
   "cell_type": "code",
   "execution_count": 62,
   "metadata": {},
   "outputs": [
    {
     "name": "stdout",
     "output_type": "stream",
     "text": [
      "10.10.19.1\n"
     ]
    }
   ],
   "source": [
    "s = '010.010.019.001' #output should be '10.10.19.1'\n",
    "print('.'.join([str(int(i)) for i in s.split('.')]))"
   ]
  },
  {
   "cell_type": "code",
   "execution_count": 66,
   "metadata": {},
   "outputs": [
    {
     "name": "stdout",
     "output_type": "stream",
     "text": [
      "[1505, 1540, 1575, 1610, 1645, 1680, 1715, 1750, 1785, 1820, 1855, 1890, 1925, 1960, 1995, 2030, 2065, 2100, 2135, 2170, 2205, 2240, 2275, 2310, 2345, 2380, 2415, 2450, 2485, 2520, 2555, 2590, 2625, 2660, 2695]\n"
     ]
    }
   ],
   "source": [
    "print([ i for i in range(1495, 2705, 5) if i % 7 ==0])\n",
    "    "
   ]
  },
  {
   "cell_type": "code",
   "execution_count": 71,
   "metadata": {},
   "outputs": [
    {
     "name": "stdout",
     "output_type": "stream",
     "text": [
      "HI \n",
      "PRINKA\n",
      "Hey\n",
      "\n",
      "['hi ', 'prinka', 'hey']\n"
     ]
    }
   ],
   "source": [
    "i = 1\n",
    "lists = []\n",
    "while i == 1:\n",
    "    inp = input()\n",
    "    if inp == '':\n",
    "        i = 0\n",
    "    else:\n",
    "        lists.append(inp.lower())\n",
    "print(lists)\n",
    "        "
   ]
  }
 ],
 "metadata": {
  "kernelspec": {
   "display_name": "Python 3",
   "language": "python",
   "name": "python3"
  },
  "language_info": {
   "codemirror_mode": {
    "name": "ipython",
    "version": 3
   },
   "file_extension": ".py",
   "mimetype": "text/x-python",
   "name": "python",
   "nbconvert_exporter": "python",
   "pygments_lexer": "ipython3",
   "version": "3.7.1"
  }
 },
 "nbformat": 4,
 "nbformat_minor": 2
}
